{
 "metadata": {
  "language_info": {
   "codemirror_mode": {
    "name": "ipython",
    "version": 3
   },
   "file_extension": ".py",
   "mimetype": "text/x-python",
   "name": "python",
   "nbconvert_exporter": "python",
   "pygments_lexer": "ipython3",
   "version": "3.7.6-final"
  },
  "orig_nbformat": 2,
  "kernelspec": {
   "name": "python3",
   "display_name": "Python 3.7.6 64-bit ('env': venv)",
   "metadata": {
    "interpreter": {
     "hash": "5440d3d66dd0baee71b7cce156be6228403eea7dd7637747abbe5319e949f6d8"
    }
   }
  }
 },
 "nbformat": 4,
 "nbformat_minor": 2,
 "cells": [
  {
   "source": [
    "# Model training demo\n",
    "\n",
    "## Pure few-shot image model (MAML)\n",
    "\n",
    "**WORK IN PROGRESS** --- Need to plug in dataset & test"
   ],
   "cell_type": "markdown",
   "metadata": {}
  },
  {
   "cell_type": "code",
   "execution_count": null,
   "metadata": {},
   "outputs": [],
   "source": [
    "from models.maml import PureImageNetwork, train_maml\n",
    "from torchmeta.utils.data import BatchMetaDataLoader\n",
    "\n",
    "batch_size = 16\n",
    "step_size = 0.4\n",
    "hidden = 64\n",
    "\n",
    "dataset = # TBC\n",
    "dataloader = BatchMetaDataLoader(dataset, batch_size=batch_size, shuffle=True, num_workers=1)\n",
    "model = PureImageNetwork(im_embed_dim=dataset.in_dim, n_way=dataset.n_way, hidden=hidden)"
   ]
  }
 ]
}