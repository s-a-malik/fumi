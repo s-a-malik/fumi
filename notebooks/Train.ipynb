{
 "cells": [
  {
   "cell_type": "markdown",
   "metadata": {},
   "source": [
    "<a href=\"https://colab.research.google.com/github/s-a-malik/multi-few/blob/publish/notebooks/Train.ipynb\" target=\"_parent\"><img src=\"https://colab.research.google.com/assets/colab-badge.svg\" alt=\"Open In Colab\"/></a>\n",
    "\n",
    "TO CHANGE LINK TO COLAB\n",
    "\n",
    "\n",
    "# FuMI\n",
    "\n",
    "Test running scripts"
   ]
  },
  {
   "cell_type": "code",
   "execution_count": 1,
   "metadata": {},
   "outputs": [
    {
     "name": "stdout",
     "output_type": "stream",
     "text": [
      "Cloning into 'multi-few'...\n",
      "remote: Enumerating objects: 1606, done.\u001b[K\n",
      "remote: Counting objects: 100% (353/353), done.\u001b[K\n",
      "remote: Compressing objects: 100% (91/91), done.\u001b[K\n",
      "remote: Total 1606 (delta 303), reused 294 (delta 261), pack-reused 1253\u001b[K\n",
      "Receiving objects: 100% (1606/1606), 2.95 MiB | 8.50 MiB/s, done.\n",
      "Resolving deltas: 100% (1014/1014), done.\n",
      "[Errno 2] No such file or directory: 'fumi'\n",
      "/Users/shreshth/Library/CloudStorage/OneDrive-Nexus365/Projects/CDT Conference 2022/code/fumi/notebooks\n",
      "\u001b[31mERROR: Could not open requirements file: [Errno 2] No such file or directory: 'requirements.txt'\u001b[0m\n"
     ]
    }
   ],
   "source": [
    "# clone the repo and install the dependencies\n",
    "!git clone --branch publish https://github.com/s-a-malik/multi-few  # TO CHANGE\n",
    "%cd ./multi-few # TO CHANGE\n",
    "!pip install -r requirements.txt"
   ]
  },
  {
   "cell_type": "code",
   "execution_count": 2,
   "metadata": {},
   "outputs": [
    {
     "name": "stdout",
     "output_type": "stream",
     "text": [
      "/Users/shreshth/Library/CloudStorage/OneDrive-Nexus365/Projects/CDT Conference 2022/code/fumi/notebooks\n"
     ]
    }
   ],
   "source": [
    "!pwd"
   ]
  },
  {
   "cell_type": "code",
   "execution_count": null,
   "metadata": {},
   "outputs": [],
   "source": [
    "# download the data\n",
    "# TODO\n",
    "import os\n",
    "os.makedirs(\"./data\", exist_ok=True)\n",
    "# unzip\n",
    "!unzip ./data/iNat-Anim.zip"
   ]
  },
  {
   "cell_type": "code",
   "execution_count": null,
   "metadata": {},
   "outputs": [],
   "source": [
    "# sign into wandb\n",
    "!wandb login <API_KEY>"
   ]
  },
  {
   "cell_type": "code",
   "execution_count": null,
   "metadata": {},
   "outputs": [],
   "source": [
    "# train the model\n",
    "!python fumi/main.py --data_dir \"./data\" --log_dir \"./results\" --wandb_entity \"YOUR_WANDB\" \\\n",
    "   --model fumi --experiment fumi-5-shots --num_shots 5"
   ]
  }
 ],
 "metadata": {
  "kernelspec": {
   "display_name": "Python 3.8.8 ('nlp-project')",
   "language": "python",
   "name": "python3"
  },
  "language_info": {
   "codemirror_mode": {
    "name": "ipython",
    "version": 3
   },
   "file_extension": ".py",
   "mimetype": "text/x-python",
   "name": "python",
   "nbconvert_exporter": "python",
   "pygments_lexer": "ipython3",
   "version": "3.8.8"
  },
  "orig_nbformat": 4,
  "vscode": {
   "interpreter": {
    "hash": "3283e331221d3e092a4746895d21e49560347405c373e66aef669189d4d2967a"
   }
  }
 },
 "nbformat": 4,
 "nbformat_minor": 2
}
