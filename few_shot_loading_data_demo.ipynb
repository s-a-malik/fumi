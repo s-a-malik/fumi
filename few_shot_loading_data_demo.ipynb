{
  "nbformat": 4,
  "nbformat_minor": 0,
  "metadata": {
    "colab": {
      "name": "few-shot-loading-data-demo.ipynb",
      "provenance": [],
      "collapsed_sections": [],
      "authorship_tag": "ABX9TyNDLR7ziDVGUdIc1twKv+os",
      "include_colab_link": true
    },
    "kernelspec": {
      "name": "python3",
      "display_name": "Python 3"
    }
  },
  "cells": [
    {
      "cell_type": "markdown",
      "metadata": {
        "id": "view-in-github",
        "colab_type": "text"
      },
      "source": [
        "<a href=\"https://colab.research.google.com/github/s-a-malik/zero-shot/blob/main/few_shot_loading_data_demo.ipynb\" target=\"_parent\"><img src=\"https://colab.research.google.com/assets/colab-badge.svg\" alt=\"Open In Colab\"/></a>"
      ]
    },
    {
      "cell_type": "code",
      "metadata": {
        "id": "xgi137tWE43d"
      },
      "source": [
        "import torch.utils.data as data\n",
        "import json\n",
        "import nltk\n",
        "import os\n",
        "from PIL import Image\n",
        "from transformers import BertTokenizer, BertModel\n",
        "from torchvision.transforms import Compose\n",
        "\n",
        "class DefaultTransform(Compose):\n",
        "\n",
        "  def __init__(self, image_size: int):\n",
        "\n",
        "\n",
        "class Zanim(data.Dataset):\n",
        "\n",
        "  def __init__(self, root: str, json_path: str, image_transforms: Compose = None):\n",
        "    \"\"\"\n",
        "    :param root: the path to the root directory of the dataset\n",
        "    :param json_path: the path to the json file containing the annotations\n",
        "    :param transforms: a composed set of transforms\n",
        "    \"\"\"\n",
        "    if not(root in json_path):\n",
        "        json_path = os.path.join(root, json_path)\n",
        "    self.root = root\n",
        "    self.transforms = image_transforms\n",
        "    with open(json_path) as annotations:\n",
        "      annotations = json.load(annotations)\n",
        "\n",
        "    self.tokenizer = BertTokenizer.from_pretrained(\"bert-base-uncased\")\n",
        "    self.bert_model = BertModel.from_pretrained(\"bert-base-uncased\")\n",
        "\n",
        "    self.ids = [i['id'] for i in annotations['images']]\n",
        "    self.image_files = [i['file_name'] for i in annotations['images']]\n",
        "    self.species_id = [annotations['annotations'][i['id']]['category_id'] for i in annotations['images']]\n",
        "    self.species_name = [annotations['categories'][i]['name'] for i in self.species_id]\n",
        "    self.descriptions = [annotations['categories'][index]['description'] for index in self.species_id]\n",
        "\n",
        "  def __len__(self):\n",
        "    return len(self.ids)\n",
        "\n",
        "  def __getitem__(self, index):\n",
        "    image = Image.open(os.path.join(self.root, self.image_files[index]))\n",
        "    if self.transforms:\n",
        "      image = self.transforms(image)\n",
        "\n",
        "    description = self.descriptions[index] \n",
        "    species_id = self.species_id[index]\n",
        "    tokens = self.tokenizer(description, return_tensors=\"pt\")\n",
        "    embedding = self.bert_model(**tokens)\n",
        "    return (image, embedding), species_id, {'description': description, \n",
        "                                            'species': self.species_name[index]}\n"
      ],
      "execution_count": 6,
      "outputs": []
    },
    {
      "cell_type": "code",
      "metadata": {
        "id": "uiGQOTh5WYKI"
      },
      "source": [
        "z = Zanim(root=\"/content/drive/My Drive/NLP project/Dataset\", json_path=\"train.json\", image_transforms=None)"
      ],
      "execution_count": 5,
      "outputs": []
    },
    {
      "cell_type": "code",
      "metadata": {
        "id": "bkmqLZrj1W-D"
      },
      "source": [
        "tokenizer = BertTokenizer.from_pretrained(\"bert-base-uncased\")\n",
        "bert_model = BertModel.from_pretrained(\"bert-base-uncased\")\n",
        "z.descriptions"
      ],
      "execution_count": null,
      "outputs": []
    },
    {
      "cell_type": "code",
      "metadata": {
        "colab": {
          "base_uri": "https://localhost:8080/"
        },
        "id": "3bhjyhVlcZU8",
        "outputId": "3650c052-2781-46a9-dcfb-53622911c3e2"
      },
      "source": [
        "!pip install transformers"
      ],
      "execution_count": 29,
      "outputs": [
        {
          "output_type": "stream",
          "text": [
            "Collecting transformers\n",
            "\u001b[?25l  Downloading https://files.pythonhosted.org/packages/ed/d5/f4157a376b8a79489a76ce6cfe147f4f3be1e029b7144fa7b8432e8acb26/transformers-4.4.2-py3-none-any.whl (2.0MB)\n",
            "\u001b[K     |████████████████████████████████| 2.0MB 5.2MB/s \n",
            "\u001b[?25hRequirement already satisfied: packaging in /usr/local/lib/python3.7/dist-packages (from transformers) (20.9)\n",
            "Requirement already satisfied: filelock in /usr/local/lib/python3.7/dist-packages (from transformers) (3.0.12)\n",
            "Requirement already satisfied: requests in /usr/local/lib/python3.7/dist-packages (from transformers) (2.23.0)\n",
            "Requirement already satisfied: regex!=2019.12.17 in /usr/local/lib/python3.7/dist-packages (from transformers) (2019.12.20)\n",
            "Requirement already satisfied: importlib-metadata; python_version < \"3.8\" in /usr/local/lib/python3.7/dist-packages (from transformers) (3.7.2)\n",
            "Collecting tokenizers<0.11,>=0.10.1\n",
            "\u001b[?25l  Downloading https://files.pythonhosted.org/packages/71/23/2ddc317b2121117bf34dd00f5b0de194158f2a44ee2bf5e47c7166878a97/tokenizers-0.10.1-cp37-cp37m-manylinux2010_x86_64.whl (3.2MB)\n",
            "\u001b[K     |████████████████████████████████| 3.2MB 17.1MB/s \n",
            "\u001b[?25hRequirement already satisfied: numpy>=1.17 in /usr/local/lib/python3.7/dist-packages (from transformers) (1.19.5)\n",
            "Collecting sacremoses\n",
            "\u001b[?25l  Downloading https://files.pythonhosted.org/packages/7d/34/09d19aff26edcc8eb2a01bed8e98f13a1537005d31e95233fd48216eed10/sacremoses-0.0.43.tar.gz (883kB)\n",
            "\u001b[K     |████████████████████████████████| 890kB 35.4MB/s \n",
            "\u001b[?25hRequirement already satisfied: tqdm>=4.27 in /usr/local/lib/python3.7/dist-packages (from transformers) (4.41.1)\n",
            "Requirement already satisfied: pyparsing>=2.0.2 in /usr/local/lib/python3.7/dist-packages (from packaging->transformers) (2.4.7)\n",
            "Requirement already satisfied: certifi>=2017.4.17 in /usr/local/lib/python3.7/dist-packages (from requests->transformers) (2020.12.5)\n",
            "Requirement already satisfied: chardet<4,>=3.0.2 in /usr/local/lib/python3.7/dist-packages (from requests->transformers) (3.0.4)\n",
            "Requirement already satisfied: idna<3,>=2.5 in /usr/local/lib/python3.7/dist-packages (from requests->transformers) (2.10)\n",
            "Requirement already satisfied: urllib3!=1.25.0,!=1.25.1,<1.26,>=1.21.1 in /usr/local/lib/python3.7/dist-packages (from requests->transformers) (1.24.3)\n",
            "Requirement already satisfied: typing-extensions>=3.6.4; python_version < \"3.8\" in /usr/local/lib/python3.7/dist-packages (from importlib-metadata; python_version < \"3.8\"->transformers) (3.7.4.3)\n",
            "Requirement already satisfied: zipp>=0.5 in /usr/local/lib/python3.7/dist-packages (from importlib-metadata; python_version < \"3.8\"->transformers) (3.4.1)\n",
            "Requirement already satisfied: six in /usr/local/lib/python3.7/dist-packages (from sacremoses->transformers) (1.15.0)\n",
            "Requirement already satisfied: click in /usr/local/lib/python3.7/dist-packages (from sacremoses->transformers) (7.1.2)\n",
            "Requirement already satisfied: joblib in /usr/local/lib/python3.7/dist-packages (from sacremoses->transformers) (1.0.1)\n",
            "Building wheels for collected packages: sacremoses\n",
            "  Building wheel for sacremoses (setup.py) ... \u001b[?25l\u001b[?25hdone\n",
            "  Created wheel for sacremoses: filename=sacremoses-0.0.43-cp37-none-any.whl size=893262 sha256=6ddbc184e8b993cd60f8408c61c3ccacb6e81080684223d2d1bb3221df73d372\n",
            "  Stored in directory: /root/.cache/pip/wheels/29/3c/fd/7ce5c3f0666dab31a50123635e6fb5e19ceb42ce38d4e58f45\n",
            "Successfully built sacremoses\n",
            "Installing collected packages: tokenizers, sacremoses, transformers\n",
            "Successfully installed sacremoses-0.0.43 tokenizers-0.10.1 transformers-4.4.2\n"
          ],
          "name": "stdout"
        }
      ]
    },
    {
      "cell_type": "code",
      "metadata": {
        "colab": {
          "base_uri": "https://localhost:8080/"
        },
        "id": "aHNfiMaVYGxh",
        "outputId": "399db60d-76af-40ed-8877-54b04475956e"
      },
      "source": [
        "print(\"Species names\")\n",
        "print(\"\\n\".join(z.species_name[:10]))\n",
        "print(\"\\nSpecies ID\")\n",
        "print(z.species_id[:10])\n",
        "print(\"\\nDescriptions\")\n",
        "print(\"\\n\".join(z.descriptions[:10]))\n",
        "print(\"\\nImage files examples\")\n",
        "print(\"\\n\".join(z.image_files[:10]))"
      ],
      "execution_count": 24,
      "outputs": [
        {
          "output_type": "stream",
          "text": [
            "Species names\n",
            "Marmota flaviventris\n",
            "Dipsosaurus dorsalis\n",
            "Gopherus agassizii\n",
            "Grampus griseus\n",
            "Sterna paradisaea\n",
            "Fratercula arctica\n",
            "Cistothorus palustris\n",
            "Falco mexicanus\n",
            "Crocodylus acutus\n",
            "Lanius ludovicianus\n",
            "\n",
            "Species ID\n",
            "[524, 607, 665, 388, 100, 84, 242, 138, 545, 205]\n",
            "\n",
            "Descriptions\n",
            "Yellow-bellied marmots are rodents similar to squirrels, but bigger. They have grizzled brownish fur and a yellow belly, with a whitish spot between their eyes. Their ears are small and round and they have a short white muzzle with a black nose. Their bodies are heavy-set and they have short legs and a reddish-brown furry tail.\n",
            "The Desert iguana is one of the most common lizards of the Sonoran and Mojave deserts of the southwestern United States and northwestern Mexico. It is pale gray-tan to cream in color with a light brown reticulated pattern on its back and sides. Down the center of the back is a row of slightly-enlarged, keeled dorsal scales that become slightly larger as you move down the back. The reticulated pattern gives way to brown spots near the back legs, turning into stripes along the tail. The belly is pale. During the breeding season, the sides become pinkish in both sexes.\n",
            "The Desert tortoises are two species of tortoise native to the Mojave and Sonoran Deserts of the southwestern United States and northern parts of Mexico. They are Agassiz's desert tortoise and Morafka's desert tortoise. These are slow-growing and long-lived tortoises that have changed little during the past 200 million years. Males are slightly larger than females and have a longer gular horn; a male's plastron (lower shell) is concave compared to a female tortoise. Males have larger tails than females do. The shells of Desert tortoises are high-domed, and greenish-tan to dark brown in color. The front limbs have sharp, claw-like scales and are flattened for digging. Back legs are skinnier and very long. Desert tortoises can tolerate water, salt, and energy imbalances on a daily basis, which increases their lifespans.\n",
            "This animals is one of the most mysterious and little known-species of dolphin with a rather unusual appearance. The snout of Risso’s dolphin is blunt. The animal has a bulbous head, emerging almost vertically from the upper jaw. Another identifying feature of Risso’s dolphin is long, white bands of scar tissue, descending either side of the dolphin's body. These streaks are believed to be a result of squid bites or bites from conspecifics, caused during playing or fighting. The skin color of newborn calves is grey, becoming chocolate brown as they grow up. Adult individuals exhibit slaty or black upper-side, slightly colored with blue of purple. The under-side is whiter, while the flippers and tail are darker.\n",
            "The Arctic tern or, otherwise called Sterna paradisaea, is a species of small seabird with short legs and comparably narrow wings. Terns of different ages may have different colors at different seasons. Thus, young terns are mainly brown and gray. Color of adult terns at the breeding season varies from white to gray. The tern has red-colored legs and beak, and a black spot on its forehead and head. Meanwhile, in regular (non-breeding) season, their legs and beak become black and the black spot on its forehead decreases in size.\n",
            "The Atlantic puffin is a colorful seabird and is the only puffin native to the Atlantic Ocean. It has a black crown and back, pale grey cheek patches, and white underparts. Its broad boldly marked red and black beak and orange legs contrast with its plumage. It molts while at sea in the winter and some of the bright-colored facial characteristics are lost, with color returning again during the spring. The juvenile has similar plumage, but its cheek patches are dark grey. The juvenile does not have brightly colored head ornamentation, its bill is narrower and is dark-grey with a yellowish-brown tip, and its legs and feet are also dark. Puffins from northern populations are typically larger than in the south and these populations are generally considered a different subspecies.\n",
            "Marsh wrens are small North American songbirds. Adults have brown upperparts with a light brown belly and flanks and a white throat and breast. Their back is black with white stripes. They have a dark cap with a white line over the eyes and a short thin bill.\n",
            "Prairie falcons are medium-large sized birds of prey native to western North America. As in all falcons, females are noticeably bigger than males. The plumage of adults is warm gray-brown (sometimes called \"sandy\") above and pale with more or less dark mottling below. Having evolved in a harsh desert environment with low prey density, they have developed into aggressive and opportunistic hunters of both mammal and bird prey. Prairie falcons are popular as falconry birds, where with proper training they are regarded as being as effective as the more well known Peregrine falcons.\n",
            "This reptile is one of the largest crocodile species in the world. Irises of their eyes are silvery in color while the pupil has a form of a vertical slit, helping the animal see well in low lighting conditions. Unlike other species of crocodile, these reptiles are not green. The body of American crocodile is either tan grey or olive grey in color, covered with darker patches. Their belly is white or yellowish. The back of the crocodile is partially covered with bony armour, formed by so-called osteoderms or plates, which are more scattered in American crocodile, than in other crocodile species. The top jaw has pointed teeth, having a conical form, and interlocking with the teeth on the bottom jaw of the animal. They have large fourth teeth on both sides of their bottom jaw, which are prominent even when the jaw is closed.\n",
            "The Loggerhead shrike is a medium-sized songbird endemic to North America. It is nicknamed the butcherbird after its carnivorous tendencies, as it consumes prey such as amphibians, small birds, and even small mammals, and some prey ends up displayed and stored at a site, for example in a tree. Due to its small size and weak talons, this predatory bird relies on impaling its prey upon thorns or barbed wire for easier consumption.\n",
            "\n",
            "Image files examples\n",
            "train/04831_Animalia_Chordata_Mammalia_Rodentia_Sciuridae_Marmota_flaviventris/4653466f-f7b5-4e6c-985e-e059c1493b8f.jpg\n",
            "train/05015_Animalia_Chordata_Reptilia_Squamata_Iguanidae_Dipsosaurus_dorsalis/277c6a90-0432-4472-96b6-ed51a5cd21cf.jpg\n",
            "train/05163_Animalia_Chordata_Reptilia_Testudines_Testudinidae_Gopherus_agassizii/49c31f70-59b9-45ed-bba7-83df3b728912.jpg\n",
            "train/04658_Animalia_Chordata_Mammalia_Artiodactyla_Delphinidae_Grampus_griseus/4aab7882-22d9-4c7b-b19d-b486c810f3a8.jpg\n",
            "train/03433_Animalia_Chordata_Aves_Charadriiformes_Laridae_Sterna_paradisaea/d273eacb-845f-4072-8dd3-acc667fdaf77.jpg\n",
            "train/03342_Animalia_Chordata_Aves_Charadriiformes_Alcidae_Fratercula_arctica/1796ed71-7a1d-4c0b-9ba3-78c1d58bad32.jpg\n",
            "train/04257_Animalia_Chordata_Aves_Passeriformes_Troglodytidae_Cistothorus_palustris/9a1faaf5-0f81-4809-b363-496cd9417dbd.jpg\n",
            "train/03598_Animalia_Chordata_Aves_Falconiformes_Falconidae_Falco_mexicanus/75643ae0-bd86-4aa5-b0a4-d1cbd0ecdd0a.jpg\n",
            "train/04861_Animalia_Chordata_Reptilia_Crocodylia_Crocodylidae_Crocodylus_acutus/58f9ac42-cdf0-47c6-9fe8-16465b338a37.jpg\n",
            "train/03911_Animalia_Chordata_Aves_Passeriformes_Laniidae_Lanius_ludovicianus/58f6b084-2846-42ef-9970-ec046f147b5a.jpg\n"
          ],
          "name": "stdout"
        }
      ]
    },
    {
      "cell_type": "markdown",
      "metadata": {
        "id": "yfvhtZO2HKjF"
      },
      "source": [
        "# Generating SSH key for using drive and github"
      ]
    },
    {
      "cell_type": "code",
      "metadata": {
        "colab": {
          "base_uri": "https://localhost:8080/"
        },
        "id": "QXgIn22THUT1",
        "outputId": "9a84a95b-de19-4149-9f6a-e0ec8532fded"
      },
      "source": [
        "from google.colab import drive \n",
        "drive.mount('/content/drive')"
      ],
      "execution_count": 1,
      "outputs": [
        {
          "output_type": "stream",
          "text": [
            "Drive already mounted at /content/drive; to attempt to forcibly remount, call drive.mount(\"/content/drive\", force_remount=True).\n"
          ],
          "name": "stdout"
        }
      ]
    },
    {
      "cell_type": "markdown",
      "metadata": {
        "id": "UvBOS4wx1pFZ"
      },
      "source": [
        "**PUT YOUR EMAIL BELOW**"
      ]
    },
    {
      "cell_type": "code",
      "metadata": {
        "colab": {
          "base_uri": "https://localhost:8080/"
        },
        "id": "WIzYbcnqHM8w",
        "outputId": "5ad9a274-80df-45a6-de03-f0422ae9ffac"
      },
      "source": [
        "!ssh-keygen -t ed25519 -C \"youmed.tech@gmail.com\""
      ],
      "execution_count": null,
      "outputs": [
        {
          "output_type": "stream",
          "text": [
            "Generating public/private ed25519 key pair.\n",
            "Enter file in which to save the key (/root/.ssh/id_ed25519): /content/drive/My Drive/ssh/id_ed25519\n",
            "Enter passphrase (empty for no passphrase): \n",
            "Enter same passphrase again: \n",
            "Your identification has been saved in /content/drive/My Drive/ssh/id_ed25519.\n",
            "Your public key has been saved in /content/drive/My Drive/ssh/id_ed25519.pub.\n",
            "The key fingerprint is:\n",
            "SHA256:gj/J3Z3Uwyr2H/bwCbhphn+OCtJ3aXon4hoj9MskOUI youmed.tech@gmail.com\n",
            "The key's randomart image is:\n",
            "+--[ED25519 256]--+\n",
            "|                 |\n",
            "|                 |\n",
            "|                 |\n",
            "|     .       o   |\n",
            "|   E... S   . +  |\n",
            "|  . .o++ . ooo . |\n",
            "|   . *=B..==+.+  |\n",
            "|    . B.*++B++.=.|\n",
            "|       +o+B=*o..o|\n",
            "+----[SHA256]-----+\n"
          ],
          "name": "stdout"
        }
      ]
    },
    {
      "cell_type": "markdown",
      "metadata": {
        "id": "E6KAW7KK1uXE"
      },
      "source": [
        "**CREATE A FOLDER SSH IN YOUR GDRIVE**"
      ]
    },
    {
      "cell_type": "code",
      "metadata": {
        "id": "Vw7aCnqOH7gg"
      },
      "source": [
        "!rm -rf /etc/ssh/ssh_config\n",
        "!touch /etc/ssh/ssh_config\n",
        "!echo \"Host *\" >> /etc/ssh/ssh_config\n",
        "!echo \" AddKeysToAgent yes\" >> /etc/ssh/ssh_config\n",
        "!echo \" IgnoreUnknown UseKeychain\" >> /etc/ssh/ssh_config\n",
        "!echo \" IdentityFile \\\"/content/drive/My Drive/ssh/id_ed25519\\\"\" >> /etc/ssh/ssh_config"
      ],
      "execution_count": null,
      "outputs": []
    },
    {
      "cell_type": "code",
      "metadata": {
        "colab": {
          "base_uri": "https://localhost:8080/"
        },
        "id": "mSXAmjGyIDNA",
        "outputId": "3fc88746-247d-422b-e54a-a7ff1f263bd9"
      },
      "source": [
        "!eval \"$(ssh-agent -s)\" && ssh-add -k /content/drive/My\\ Drive/ssh/id_ed25519"
      ],
      "execution_count": null,
      "outputs": [
        {
          "output_type": "stream",
          "text": [
            "Agent pid 686\n",
            "Identity added: /content/drive/My Drive/ssh/id_ed25519 (youmed.tech@gmail.com)\n"
          ],
          "name": "stdout"
        }
      ]
    },
    {
      "cell_type": "markdown",
      "metadata": {
        "id": "dIQxY1n2180y"
      },
      "source": [
        "**COPY THE KEY AND ADD TO YOUR GITHUB**"
      ]
    },
    {
      "cell_type": "code",
      "metadata": {
        "colab": {
          "base_uri": "https://localhost:8080/"
        },
        "id": "phSwUcmVIfYk",
        "outputId": "2b7cf39b-878a-47ab-9bce-b90a84da1a36"
      },
      "source": [
        "!ssh-keyscan -t rsa github.com >> ~/.ssh/known_hosts\n",
        "!git clone git@github.com:s-a-malik/zero-shot.git"
      ],
      "execution_count": null,
      "outputs": [
        {
          "output_type": "stream",
          "text": [
            "# github.com:22 SSH-2.0-babeld-8514a139\n",
            "Cloning into 'zero-shot'...\n",
            "Warning: Permanently added the RSA host key for IP address '140.82.113.4' to the list of known hosts.\n",
            "remote: Enumerating objects: 26, done.\u001b[K\n",
            "remote: Counting objects: 100% (26/26), done.\u001b[K\n",
            "remote: Compressing objects: 100% (23/23), done.\u001b[K\n",
            "remote: Total 26 (delta 7), reused 14 (delta 2), pack-reused 0\u001b[K\n",
            "Receiving objects: 100% (26/26), 679.75 KiB | 2.57 MiB/s, done.\n",
            "Resolving deltas: 100% (7/7), done.\n"
          ],
          "name": "stdout"
        }
      ]
    }
  ]
}